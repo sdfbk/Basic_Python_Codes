{
 "cells": [
  {
   "cell_type": "markdown",
   "id": "6dce2f17-5e35-4b48-8c68-d45e173cfeab",
   "metadata": {},
   "source": [
    "## COMMENTS"
   ]
  },
  {
   "cell_type": "code",
   "execution_count": 1,
   "id": "951370d5-16a8-44e4-9ca2-e17570ab9108",
   "metadata": {},
   "outputs": [
    {
     "name": "stdout",
     "output_type": "stream",
     "text": [
      "Hello\n",
      "Hii\n"
     ]
    }
   ],
   "source": [
    "#Single Line Comments\n",
    "print(\"Hello\")\n",
    "'''MultiLine Comments \n",
    "ignore python while \n",
    "execution'''\n",
    "print('Hii')"
   ]
  },
  {
   "cell_type": "markdown",
   "id": "a6dcdb28-d706-4dc3-aa0b-fb3140dca827",
   "metadata": {},
   "source": [
    "## Operation on variables"
   ]
  },
  {
   "cell_type": "code",
   "execution_count": 3,
   "id": "2941b859-00af-438a-9f85-4248d01b259e",
   "metadata": {},
   "outputs": [
    {
     "name": "stdin",
     "output_type": "stream",
     "text": [
      "Enter Your Name:  Sweta\n",
      "Enter Your Age:  22\n",
      "Enter Your Salary:  50000.00\n"
     ]
    },
    {
     "name": "stdout",
     "output_type": "stream",
     "text": [
      "Your Name is: Sweta Your Age is: 22 Your Salary is: 50000.0\n"
     ]
    }
   ],
   "source": [
    "name=input(\"Enter Your Name: \")\n",
    "age=int(input(\"Enter Your Age: \"))\n",
    "salary=float(input(\"Enter Your Salary: \"))\n",
    "print(\"Your Name is: \"+name+\" Your Age is: \"+str(age)+\" Your Salary is: \"+str(salary))"
   ]
  },
  {
   "cell_type": "markdown",
   "id": "e9b6e68f-39c7-49d3-8995-065fdca675a6",
   "metadata": {},
   "source": [
    "## type()"
   ]
  },
  {
   "cell_type": "code",
   "execution_count": 5,
   "id": "42a0bf28-8d03-4faf-bd5e-6cc16fae2073",
   "metadata": {},
   "outputs": [
    {
     "name": "stdout",
     "output_type": "stream",
     "text": [
      "<class 'str'>\n",
      "<class 'int'>\n",
      "<class 'float'>\n"
     ]
    }
   ],
   "source": [
    "print(type(name))\n",
    "print(type(age))\n",
    "print(type(salary))"
   ]
  },
  {
   "cell_type": "markdown",
   "id": "fdce1803-ba1b-4d7f-8e17-7659709aa596",
   "metadata": {},
   "source": [
    "## Data Types"
   ]
  },
  {
   "cell_type": "code",
   "execution_count": 7,
   "id": "5c5b03cb-9b12-484c-9198-4bee8e18298f",
   "metadata": {},
   "outputs": [
    {
     "name": "stdout",
     "output_type": "stream",
     "text": [
      "12\n",
      "12.9\n",
      "True\n",
      "true\n",
      "<class 'int'>\n",
      "<class 'float'>\n",
      "<class 'bool'>\n",
      "<class 'str'>\n",
      "['Sweta', 12, 11.9, True]\n",
      "('Sweta', 12, 11.9, True)\n",
      "{True, 11.9, 12, 'Sweta'}\n",
      "{'Name': ['Sweta', 'Archana', 'Anil'], 'Rollno': [12, 34, 90]}\n"
     ]
    }
   ],
   "source": [
    "#Primitive Data Types\n",
    "num=12\n",
    "print(num)\n",
    "num1=12.9\n",
    "print(num1)\n",
    "num2=True\n",
    "print(num2)\n",
    "num3='true'\n",
    "print(num3)\n",
    "print(type(num))\n",
    "print(type(num1))\n",
    "print(type(num2))\n",
    "print(type(num3))\n",
    "\n",
    "#Non-Primitive Data Types\n",
    "list=[\"Sweta\",12,11.9,True]\n",
    "print(list)\n",
    "tuple=(\"Sweta\",12,11.9,True)\n",
    "print(tuple)\n",
    "set={\"Sweta\",12,11.9,True}\n",
    "print(set)\n",
    "dictionary={\"Name\":[\"Sweta\",\"Archana\",\"Anil\"],\"Rollno\":[12,34,90]}\n",
    "print(dictionary)"
   ]
  },
  {
   "cell_type": "markdown",
   "id": "62614a4b-3140-43c1-98ef-19f5c9ce3371",
   "metadata": {},
   "source": [
    "## Mutable and Immutable"
   ]
  },
  {
   "cell_type": "code",
   "execution_count": 8,
   "id": "bde632be-5a0e-4ec7-970e-100b4d6a6ade",
   "metadata": {},
   "outputs": [
    {
     "name": "stdout",
     "output_type": "stream",
     "text": [
      "['Mango', 'Apple', 'Orange']\n",
      "['Mango', 'Kiwi', 'Orange']\n",
      "{'Name': ['abc', 'pqr'], 'Age': [21, 45]}\n",
      "{'Name': ['abc', 'ppp'], 'Age': [21, 45]}\n",
      "{12, 'Sweta', 'abc'}\n",
      "{2, 12, 'Sweta', 'abc'}\n",
      "{2, 12, 'Sweta'}\n",
      "(1, 'abc', 1.2, False)\n",
      "<class 'tuple'>\n",
      "('Cherry', 'Mango')\n",
      "<class 'tuple'>\n"
     ]
    },
    {
     "ename": "TypeError",
     "evalue": "'list' object is not callable",
     "output_type": "error",
     "traceback": [
      "\u001b[1;31m---------------------------------------------------------------------------\u001b[0m",
      "\u001b[1;31mTypeError\u001b[0m                                 Traceback (most recent call last)",
      "Cell \u001b[1;32mIn[8], line 26\u001b[0m\n\u001b[0;32m     24\u001b[0m \u001b[38;5;28mprint\u001b[39m(fruit)\n\u001b[0;32m     25\u001b[0m \u001b[38;5;28mprint\u001b[39m(\u001b[38;5;28mtype\u001b[39m(fruit))\n\u001b[1;32m---> 26\u001b[0m fruit_list\u001b[38;5;241m=\u001b[39m\u001b[38;5;28;43mlist\u001b[39;49m\u001b[43m(\u001b[49m\u001b[43mfruit\u001b[49m\u001b[43m)\u001b[49m\n\u001b[0;32m     27\u001b[0m \u001b[38;5;28mprint\u001b[39m(fruit_list)\n\u001b[0;32m     28\u001b[0m \u001b[38;5;28mprint\u001b[39m(\u001b[38;5;28mtype\u001b[39m(fruit_list))\n",
      "\u001b[1;31mTypeError\u001b[0m: 'list' object is not callable"
     ]
    }
   ],
   "source": [
    "#Mutable\n",
    "list=[\"Mango\",\"Apple\",\"Orange\"]\n",
    "print(list)\n",
    "list[1]=\"Kiwi\"\n",
    "print(list)\n",
    "dictionary={\"Name\":[\"abc\",\"pqr\"],\"Age\":[21,45]}\n",
    "print(dictionary)\n",
    "dictionary['Name'][1]=\"ppp\"\n",
    "print(dictionary)\n",
    "set={\"Sweta\",12,\"abc\"}\n",
    "print(set)\n",
    "set.add(2)\n",
    "print(set)\n",
    "set.remove(\"abc\")\n",
    "print(set)\n",
    "\n",
    "#Immutable\n",
    "tuplee=(1,\"abc\",1.2,False)\n",
    "print(tuplee)\n",
    "print(type(tuplee))\n",
    "\n",
    "#Tuple can convert into list, so that its become easy to make modifications\n",
    "fruit=('Cherry','Mango')\n",
    "print(fruit)\n",
    "print(type(fruit))\n",
    "fruit_list=list(fruit)\n",
    "print(fruit_list)\n",
    "print(type(fruit_list))"
   ]
  },
  {
   "cell_type": "markdown",
   "id": "f672f3a5-427f-4561-a8fe-ab8e38bcb42b",
   "metadata": {},
   "source": [
    "## Common String Functions"
   ]
  },
  {
   "cell_type": "code",
   "execution_count": 29,
   "id": "98e99d77-641f-44ee-bf36-2cea8bfa71e5",
   "metadata": {},
   "outputs": [
    {
     "data": {
      "text/plain": [
       "['__add__',\n",
       " '__class__',\n",
       " '__contains__',\n",
       " '__delattr__',\n",
       " '__dir__',\n",
       " '__doc__',\n",
       " '__eq__',\n",
       " '__format__',\n",
       " '__ge__',\n",
       " '__getattribute__',\n",
       " '__getitem__',\n",
       " '__getnewargs__',\n",
       " '__getstate__',\n",
       " '__gt__',\n",
       " '__hash__',\n",
       " '__init__',\n",
       " '__init_subclass__',\n",
       " '__iter__',\n",
       " '__le__',\n",
       " '__len__',\n",
       " '__lt__',\n",
       " '__mod__',\n",
       " '__mul__',\n",
       " '__ne__',\n",
       " '__new__',\n",
       " '__reduce__',\n",
       " '__reduce_ex__',\n",
       " '__repr__',\n",
       " '__rmod__',\n",
       " '__rmul__',\n",
       " '__setattr__',\n",
       " '__sizeof__',\n",
       " '__str__',\n",
       " '__subclasshook__',\n",
       " 'capitalize',\n",
       " 'casefold',\n",
       " 'center',\n",
       " 'count',\n",
       " 'encode',\n",
       " 'endswith',\n",
       " 'expandtabs',\n",
       " 'find',\n",
       " 'format',\n",
       " 'format_map',\n",
       " 'index',\n",
       " 'isalnum',\n",
       " 'isalpha',\n",
       " 'isascii',\n",
       " 'isdecimal',\n",
       " 'isdigit',\n",
       " 'isidentifier',\n",
       " 'islower',\n",
       " 'isnumeric',\n",
       " 'isprintable',\n",
       " 'isspace',\n",
       " 'istitle',\n",
       " 'isupper',\n",
       " 'join',\n",
       " 'ljust',\n",
       " 'lower',\n",
       " 'lstrip',\n",
       " 'maketrans',\n",
       " 'partition',\n",
       " 'removeprefix',\n",
       " 'removesuffix',\n",
       " 'replace',\n",
       " 'rfind',\n",
       " 'rindex',\n",
       " 'rjust',\n",
       " 'rpartition',\n",
       " 'rsplit',\n",
       " 'rstrip',\n",
       " 'split',\n",
       " 'splitlines',\n",
       " 'startswith',\n",
       " 'strip',\n",
       " 'swapcase',\n",
       " 'title',\n",
       " 'translate',\n",
       " 'upper',\n",
       " 'zfill']"
      ]
     },
     "execution_count": 29,
     "metadata": {},
     "output_type": "execute_result"
    }
   ],
   "source": [
    "var=\"sweta\"\n",
    "dir(var)"
   ]
  },
  {
   "cell_type": "code",
   "execution_count": 11,
   "id": "e207f6dc-fbcf-47da-85b6-54dc3322a382",
   "metadata": {},
   "outputs": [
    {
     "name": "stdout",
     "output_type": "stream",
     "text": [
      "Sweta\n",
      "SWETA\n",
      "sweta\n",
      "False\n",
      "True\n",
      "False\n",
      "True\n",
      "False\n",
      "SWETA\n",
      "['sweta']\n",
      "sweta\n",
      "1\n",
      "sweta\n",
      "sweta\n",
      "True\n",
      "True\n",
      "swetu\n"
     ]
    }
   ],
   "source": [
    "var=\"sweta\"\n",
    "print(var.title())\n",
    "print(var.upper())\n",
    "print(var.lower())\n",
    "print(var.isupper())\n",
    "print(var.islower())\n",
    "print(var.istitle())\n",
    "print(var.isalpha())\n",
    "print(var.isdigit())\n",
    "print(var.swapcase())\n",
    "print(var.split())\n",
    "print(var.strip())\n",
    "print(var.find('w'))\n",
    "print(var.lstrip())\n",
    "print(var.rstrip())\n",
    "print(var.startswith('s'))\n",
    "print(var.endswith('a'))\n",
    "print(var.replace('a','u'))"
   ]
  },
  {
   "cell_type": "markdown",
   "id": "accf72b1-6c38-4fff-ba61-ed99527b9180",
   "metadata": {},
   "source": [
    "## Operator"
   ]
  },
  {
   "cell_type": "markdown",
   "id": "2cee95c6-3106-41b7-97f9-713340ac2f73",
   "metadata": {},
   "source": [
    "### Arithmetic Operator\n"
   ]
  },
  {
   "cell_type": "code",
   "execution_count": 18,
   "id": "728a74aa-33a2-41d0-8bee-ac180bbd8f77",
   "metadata": {},
   "outputs": [
    {
     "name": "stdout",
     "output_type": "stream",
     "text": [
      "22\n",
      "2\n",
      "120\n",
      "1.2\n",
      "1\n",
      "100\n"
     ]
    }
   ],
   "source": [
    "#Addition\n",
    "a=12\n",
    "b=10\n",
    "c=a+b\n",
    "print(c)\n",
    "#Subtraction\n",
    "c=a-b\n",
    "print(c)\n",
    "#Multiplication\n",
    "c=a*b\n",
    "print(c)\n",
    "#Division\n",
    "c=a/b\n",
    "print(c)\n",
    "#Floor Division\n",
    "c=a//b\n",
    "print(c)\n",
    "#Exponential\n",
    "c=b**2\n",
    "print(c)"
   ]
  },
  {
   "cell_type": "markdown",
   "id": "b342c0a3-91ae-4ba7-90fb-d62559ddea5f",
   "metadata": {},
   "source": [
    "### Relational or Comparison Operator"
   ]
  },
  {
   "cell_type": "code",
   "execution_count": 19,
   "id": "d8d2f110-8bce-4af3-8c1b-3fe319884ab9",
   "metadata": {},
   "outputs": [
    {
     "name": "stdout",
     "output_type": "stream",
     "text": [
      "False\n",
      "True\n",
      "True\n",
      "True\n",
      "True\n",
      "False\n"
     ]
    }
   ],
   "source": [
    "print(a==b)\n",
    "print(a!=b)\n",
    "print(a>b)\n",
    "print(b<a)\n",
    "print(a>=b)\n",
    "print(b>=a)\n"
   ]
  },
  {
   "cell_type": "markdown",
   "id": "45355379-6579-49f0-ab47-93b711523fb8",
   "metadata": {},
   "source": [
    "### Logical Operator"
   ]
  },
  {
   "cell_type": "code",
   "execution_count": 26,
   "id": "5fb4d295-cba2-41ab-b809-6c77e7922361",
   "metadata": {},
   "outputs": [
    {
     "name": "stdout",
     "output_type": "stream",
     "text": [
      "False\n",
      "True\n",
      "False\n"
     ]
    }
   ],
   "source": [
    "print(a<1 and a>=12)\n",
    "print(a<1 or a>=12)\n",
    "print(not(a<1 or a>=12))"
   ]
  },
  {
   "cell_type": "markdown",
   "id": "70d0ca23-e626-4456-a10d-1982eaf2431f",
   "metadata": {},
   "source": [
    "### Membership Operator"
   ]
  },
  {
   "cell_type": "code",
   "execution_count": 29,
   "id": "367f6830-96a7-4572-aeef-29d7c7897c8c",
   "metadata": {},
   "outputs": [
    {
     "name": "stdin",
     "output_type": "stream",
     "text": [
      "Enter character:  a\n"
     ]
    },
    {
     "name": "stdout",
     "output_type": "stream",
     "text": [
      "True\n",
      "False\n"
     ]
    }
   ],
   "source": [
    "vowels=input(\"Enter character: \")\n",
    "print(vowels in \"aeiou\")\n",
    "print(vowels not in \"aeiou\")"
   ]
  },
  {
   "cell_type": "markdown",
   "id": "1d0699b6-cb8f-4c1c-81d5-80ecc7815003",
   "metadata": {},
   "source": [
    "### Identity Operator"
   ]
  },
  {
   "cell_type": "code",
   "execution_count": 34,
   "id": "59597223-db86-47c0-b98c-8cc8ea927307",
   "metadata": {},
   "outputs": [
    {
     "name": "stdout",
     "output_type": "stream",
     "text": [
      "1677169664448\n",
      "1677169653824\n",
      "1677169664448\n",
      "False\n",
      "True\n",
      "False\n",
      "True\n"
     ]
    }
   ],
   "source": [
    "a=['s','w']\n",
    "b=['s','w']\n",
    "c=a\n",
    "print(id(a))\n",
    "print(id(b))\n",
    "print(id(c))\n",
    "print(a is b)\n",
    "print(a is c)\n",
    "print(b is c)\n",
    "print(a is not b)"
   ]
  },
  {
   "cell_type": "markdown",
   "id": "e8307550-266c-47ec-aed6-a47ef852e9ed",
   "metadata": {},
   "source": [
    "### Assignment Operator"
   ]
  },
  {
   "cell_type": "code",
   "execution_count": 42,
   "id": "83f535c7-d711-4a9e-908a-437b24c5f187",
   "metadata": {},
   "outputs": [
    {
     "name": "stdout",
     "output_type": "stream",
     "text": [
      "3\n",
      "2\n",
      "5\n",
      "3\n",
      "1.5\n",
      "3.0\n",
      "1.0\n",
      "1.0\n"
     ]
    }
   ],
   "source": [
    "a=3\n",
    "b=2\n",
    "print(a)\n",
    "print(b)\n",
    "a+=b\n",
    "print(a)\n",
    "a-=b\n",
    "print(a)\n",
    "a/=b\n",
    "print(a)\n",
    "a*=b\n",
    "print(a)\n",
    "a//=b\n",
    "print(a)\n",
    "a**=b\n",
    "print(a)"
   ]
  },
  {
   "cell_type": "markdown",
   "id": "122cdec7-702f-4018-8bdd-4b878a6b43da",
   "metadata": {},
   "source": [
    "### Bitwise Operator"
   ]
  },
  {
   "cell_type": "code",
   "execution_count": 46,
   "id": "eaa60b4b-4972-406b-b455-82b092398d95",
   "metadata": {},
   "outputs": [
    {
     "name": "stdout",
     "output_type": "stream",
     "text": [
      "0\n",
      "3\n",
      "3\n",
      "-2\n",
      "4\n",
      "0\n"
     ]
    }
   ],
   "source": [
    "a=1\n",
    "b=2\n",
    "print(a&b)\n",
    "print(a|b)\n",
    "print(a^b)\n",
    "print(~a)\n",
    "print(a<<b)\n",
    "print(a>>b)"
   ]
  },
  {
   "cell_type": "code",
   "execution_count": 8,
   "id": "07e58242-b1fa-4c6f-9abc-dad6ceb6b4c4",
   "metadata": {},
   "outputs": [
    {
     "name": "stdin",
     "output_type": "stream",
     "text": [
      "How much rent renter will pay you:  4000\n",
      "How much deposit Renter will pay you:  15000\n",
      "How much amount you will pay to agent:  4000\n",
      "How much amount pay to society:  2000\n",
      "Other Expenses:  14800\n"
     ]
    },
    {
     "name": "stdout",
     "output_type": "stream",
     "text": [
      "Total Profit of overall year is 38200.0\n"
     ]
    }
   ],
   "source": [
    "def Total_Profit(rent,deposit,agent,society,expense):\n",
    "    agg=11\n",
    "    sum=agent+society+expense\n",
    "    deposit-=sum\n",
    "    agg*=rent\n",
    "    return deposit+agg\n",
    "rent=float(input(\"How much rent renter will pay you: \"))\n",
    "deposit=float(input(\"How much deposit Renter will pay you: \"))\n",
    "agent=float(input(\"How much amount you will pay to agent: \"))\n",
    "society=float(input(\"How much amount pay to society: \"))\n",
    "expense=float(input(\"Other Expenses: \"))\n",
    "print(f\"Total Profit of overall year is {Total_Profit(rent,deposit,agent,society,expense)}\")"
   ]
  },
  {
   "cell_type": "code",
   "execution_count": 20,
   "id": "a56a91c9-62b8-4c68-9e39-9780b964ea30",
   "metadata": {},
   "outputs": [
    {
     "name": "stdin",
     "output_type": "stream",
     "text": [
      "Enter how many days to return a book in days:  12\n"
     ]
    },
    {
     "name": "stdout",
     "output_type": "stream",
     "text": [
      "Total fine you have to pay {'Harry Potter': 100, 'Jungle Book': 125}\n"
     ]
    }
   ],
   "source": [
    "Books={\"Harry Potter\":100,\"Jungle Book\":200}\n",
    "delay_to_return=int(input(\"Enter how many days to return a book in days: \"))\n",
    "fine=0\n",
    "limit=7\n",
    "for i,k in Books.items():\n",
    "    for j in range(delay_to_return+1):\n",
    "        if j>limit:\n",
    "            if fine==k:\n",
    "                fine=k\n",
    "            else:\n",
    "                fine+=25\n",
    "        else:\n",
    "            fine=0\n",
    "        Books[i]=fine\n",
    "print(f\"Total fine you have to pay {Books}\")"
   ]
  },
  {
   "cell_type": "code",
   "execution_count": 9,
   "id": "fafa9234-8185-427d-8dd2-e36b7e7d35b6",
   "metadata": {},
   "outputs": [],
   "source": [
    "def cal_fine(Books,delay_to_return):\n",
    "    list1=[]\n",
    "    list2=[]\n",
    "    fine=0\n",
    "    limit=7\n",
    "    for i in Books[\"Fine\"]:\n",
    "        for j in range(delay_to_return+1):\n",
    "            if j>limit:\n",
    "                if fine==i:\n",
    "                    fine=i\n",
    "                else:\n",
    "                    fine+=25\n",
    "                list1.append(fine)\n",
    "            else:\n",
    "                fine=0\n",
    "                list1.append(fine)\n",
    "        list2.append(list1[-1])\n",
    "        Books[\"Fine\"]=list2\n",
    "    return Books\n"
   ]
  },
  {
   "cell_type": "code",
   "execution_count": 26,
   "id": "fc4502ad-1512-4b1d-9698-2ef102637af2",
   "metadata": {},
   "outputs": [
    {
     "name": "stdout",
     "output_type": "stream",
     "text": [
      "BookName\n",
      "Tarzan HarryPotter JungleBook Secret \n",
      "Cost\n",
      "100 200 400 560 \n"
     ]
    },
    {
     "name": "stdin",
     "output_type": "stream",
     "text": [
      "How many books you take:  1\n",
      "Enter how many days to return a book in days:  12\n",
      "Enter book 1: Secret\n",
      "Enter cost of  book 1: 560\n"
     ]
    },
    {
     "name": "stdout",
     "output_type": "stream",
     "text": [
      "Total fine you have to pay {'BookName': ['Secret'], 'Fine': [125]}\n"
     ]
    }
   ],
   "source": [
    "Library={\"BookName\":[\"Tarzan\",\"HarryPotter\",\"JungleBook\",\"Secret\"],\"Cost\":[100,200,400,560]}\n",
    "Books={\"BookName\":'',\"Fine\":''}\n",
    "list1=[];list2=[];list3=[];\n",
    "\n",
    "for keys,values in Library.items():\n",
    "    print(keys)\n",
    "    for i in values:\n",
    "        print(i,end=\" \")\n",
    "    print()\n",
    "    \n",
    "select_books=int(input(\"How many books you take: \"))\n",
    "delay_to_return=int(input(\"Enter how many days to return a book in days: \"))\n",
    "\n",
    "for booksinfo in Library.values():\n",
    "    list1.append(booksinfo)\n",
    "    \n",
    "for no_of_books in range(select_books):\n",
    "    bookname=input(f\"Enter book {no_of_books+1}:\")\n",
    "    bookcost=int(input(f\"Enter cost of  book {no_of_books+1}:\"))\n",
    "    for books in list1:\n",
    "        for books_name_and_cost in books:\n",
    "            if bookname == books_name_and_cost:\n",
    "                list2.append(bookname)\n",
    "                Books[\"BookName\"]=list2\n",
    "            elif bookcost == books_name_and_cost:\n",
    "                list3.append(bookcost)\n",
    "                Books[\"Fine\"]=list3\n",
    "print(f\"Total fine you have to pay {cal_fine(Books,delay_to_return)}\")"
   ]
  },
  {
   "cell_type": "code",
   "execution_count": null,
   "id": "4ca84358-c700-4e7b-8684-f0c2e64eb011",
   "metadata": {},
   "outputs": [],
   "source": []
  }
 ],
 "metadata": {
  "kernelspec": {
   "display_name": "Python 3 (ipykernel)",
   "language": "python",
   "name": "python3"
  },
  "language_info": {
   "codemirror_mode": {
    "name": "ipython",
    "version": 3
   },
   "file_extension": ".py",
   "mimetype": "text/x-python",
   "name": "python",
   "nbconvert_exporter": "python",
   "pygments_lexer": "ipython3",
   "version": "3.11.4"
  }
 },
 "nbformat": 4,
 "nbformat_minor": 5
}
