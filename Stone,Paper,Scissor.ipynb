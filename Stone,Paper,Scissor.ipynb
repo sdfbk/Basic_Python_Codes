{
 "cells": [
  {
   "cell_type": "code",
   "execution_count": 2,
   "id": "a4bc3f2c-4623-4f06-a20e-f1d1fb7036d0",
   "metadata": {},
   "outputs": [
    {
     "name": "stdin",
     "output_type": "stream",
     "text": [
      "Select your choice {'Stone','Paper','Scissor'}:  Paper\n"
     ]
    },
    {
     "name": "stdout",
     "output_type": "stream",
     "text": [
      "user select Paper and computer select Stone computer win the match\n"
     ]
    },
    {
     "name": "stdin",
     "output_type": "stream",
     "text": [
      "Select your choice {'Stone','Paper','Scissor'}:  Scissor\n"
     ]
    },
    {
     "name": "stdout",
     "output_type": "stream",
     "text": [
      "user select Scissor and computer select Stone computer win the match\n"
     ]
    },
    {
     "name": "stdin",
     "output_type": "stream",
     "text": [
      "Select your choice {'Stone','Paper','Scissor'}:  Stone\n"
     ]
    },
    {
     "name": "stdout",
     "output_type": "stream",
     "text": [
      "user select Stone and computer select Stone match draw\n",
      "Computer win the game\n"
     ]
    }
   ],
   "source": [
    "import random\n",
    "from random import choice\n",
    "def stone_paper_scissor(ch_list,limit,c,c1,c2):\n",
    "    comp=choice(ch_list)\n",
    "    while limit>0:\n",
    "        user=input(\"Select your choice {'Stone','Paper','Scissor'}: \")\n",
    "        if user==comp:\n",
    "            print(f\"user select {user} and computer select {comp} match draw\")\n",
    "            c+=1\n",
    "        elif user==\"Stone\" and comp==\"Paper\" :\n",
    "                print(f\"user select {user} and computer select {comp} user win the match\")\n",
    "                c1+=1\n",
    "        elif user==\"Scissor\" and comp==\"Paper\" :\n",
    "                print(f\"user select {user} and computer select {comp} user win the match\")\n",
    "                c1+=1\n",
    "        elif user==\"Stone\" and comp==\"Scissor\" :\n",
    "                print(f\"user select {user} and computer select {comp} user win the match\")\n",
    "                c1+=1\n",
    "        else:\n",
    "            print(f\"user select {user} and computer select {comp} computer win the match\")\n",
    "            c2+=1\n",
    "        limit-=1\n",
    "    if c>c1:\n",
    "        if c>c2:\n",
    "            print(\"Match Draw\")\n",
    "        else:\n",
    "            print(\"Computer win the game\")\n",
    "    else:\n",
    "        if c1>c2:\n",
    "            print(\"User win the game\")\n",
    "        else:\n",
    "            print(\"Computer win the game\")\n",
    "ch_list=[\"Stone\",\"Paper\",\"Scissor\"]\n",
    "limit=3\n",
    "c=0;c1=0;c2=0\n",
    "stone_paper_scissor(ch_list,limit,c,c1,c2)"
   ]
  },
  {
   "cell_type": "code",
   "execution_count": null,
   "id": "a4b92a72-fbbd-49c0-88ee-2038a7bc0757",
   "metadata": {},
   "outputs": [],
   "source": []
  }
 ],
 "metadata": {
  "kernelspec": {
   "display_name": "Python 3 (ipykernel)",
   "language": "python",
   "name": "python3"
  },
  "language_info": {
   "codemirror_mode": {
    "name": "ipython",
    "version": 3
   },
   "file_extension": ".py",
   "mimetype": "text/x-python",
   "name": "python",
   "nbconvert_exporter": "python",
   "pygments_lexer": "ipython3",
   "version": "3.11.4"
  }
 },
 "nbformat": 4,
 "nbformat_minor": 5
}
